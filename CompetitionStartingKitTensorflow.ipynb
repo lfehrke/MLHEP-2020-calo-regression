{
 "cells": [
  {
   "cell_type": "markdown",
   "metadata": {
    "colab_type": "text",
    "id": "uqpo-u3SJ6BL"
   },
   "source": [
    "# Data"
   ]
  },
  {
   "cell_type": "markdown",
   "metadata": {
    "colab_type": "text",
    "id": "t8eHlqdVJ0oP"
   },
   "source": [
    "Let's have a look at the data first"
   ]
  },
  {
   "cell_type": "code",
   "execution_count": null,
   "metadata": {},
   "outputs": [],
   "source": [
    "import os\n",
    "from pathlib import Path\n",
    "\n",
    "input_data_path = Path(os.environ.get('INPUT_DATA_PATH', '.'))\n",
    "output_data_path = Path(os.environ.get('OUTPUT_DATA_PATH', '.'))\n",
    "\n",
    "train_file = str(input_data_path / \"data_train.npz\")\n",
    "test_file = str(input_data_path / \"data_test.npz\")\n",
    "prediction_file = str(output_data_path / \"data_test_prediction.npz\")\n",
    "\n",
    "\n",
    "if not (os.path.isfile(train_file) and\n",
    "        os.path.isfile(test_file)):\n",
    "    if not os.path.isfile(\"input_public_data.zip\"):\n",
    "        !wget https://codalab.coresearch.club/my/datasets/download/37304c34-1d4a-4f43-bcb2-1fdeb37c5cba -O input_public_data.zip\n",
    "    !unzip -n input_public_data.zip"
   ]
  },
  {
   "cell_type": "code",
   "execution_count": null,
   "metadata": {
    "colab": {},
    "colab_type": "code",
    "id": "PnwQTWoUuV1B"
   },
   "outputs": [],
   "source": [
    "import numpy as np"
   ]
  },
  {
   "cell_type": "code",
   "execution_count": null,
   "metadata": {
    "colab": {},
    "colab_type": "code",
    "id": "KVTLnfHsvH29"
   },
   "outputs": [],
   "source": [
    "data_real = np.load(train_file, allow_pickle=True)\n",
    "\n",
    "# This is the calorimeter response:\n",
    "energy = data_real['EnergyDeposit']\n",
    "\n",
    "# These are the quantities we want to predict\n",
    "momentum = data_real['ParticleMomentum'][:,:2]\n",
    "coordinate = data_real['ParticlePoint'][:,:2]"
   ]
  },
  {
   "cell_type": "code",
   "execution_count": null,
   "metadata": {
    "colab": {
     "base_uri": "https://localhost:8080/",
     "height": 68
    },
    "colab_type": "code",
    "id": "LxBkEZ-HGGkY",
    "outputId": "d8886772-a886-4934-e04a-05d9b96ef04e"
   },
   "outputs": [],
   "source": [
    "print('energy.shape:', energy.shape)\n",
    "print('momentum.shape:', momentum.shape)\n",
    "print('coordinate.shape:', coordinate.shape)"
   ]
  },
  {
   "cell_type": "markdown",
   "metadata": {
    "colab_type": "text",
    "id": "KtNiLcfTKZAT"
   },
   "source": [
    "So, we have images of 30x30 pixels and we want to predict 4 numbers for each of them: x, y, px and py."
   ]
  },
  {
   "cell_type": "markdown",
   "metadata": {
    "colab_type": "text",
    "id": "7Z9d8ZfTKmkS"
   },
   "source": [
    "Let's have a look at some of the images"
   ]
  },
  {
   "cell_type": "code",
   "execution_count": null,
   "metadata": {
    "colab": {},
    "colab_type": "code",
    "id": "qo0cQCrBFkhs"
   },
   "outputs": [],
   "source": [
    "import matplotlib.pyplot as plt"
   ]
  },
  {
   "cell_type": "code",
   "execution_count": null,
   "metadata": {
    "colab": {
     "base_uri": "https://localhost:8080/",
     "height": 430
    },
    "colab_type": "code",
    "id": "adq1QO8LFqYN",
    "outputId": "feb34f3e-3fcd-445c-86bc-171d87e438d8"
   },
   "outputs": [],
   "source": [
    "plt.figure(figsize=(7, 7))\n",
    "plt.subplot(221)\n",
    "plt.imshow(energy[5])\n",
    "plt.subplot(222)\n",
    "plt.imshow(energy[50])\n",
    "plt.subplot(223)\n",
    "plt.imshow(energy[500])\n",
    "plt.subplot(224)\n",
    "plt.imshow(energy[5000]);"
   ]
  },
  {
   "cell_type": "markdown",
   "metadata": {
    "colab_type": "text",
    "id": "IXXwCOt1KvKN"
   },
   "source": [
    "It's also worth knowing how the targets are distributed:"
   ]
  },
  {
   "cell_type": "code",
   "execution_count": null,
   "metadata": {
    "colab": {
     "base_uri": "https://localhost:8080/",
     "height": 265
    },
    "colab_type": "code",
    "id": "scFXIWjZwAFq",
    "outputId": "3ddc84f3-9764-4c35-bfdc-fb7dd4f05954"
   },
   "outputs": [],
   "source": [
    "plt.scatter(*momentum.T, s=5);"
   ]
  },
  {
   "cell_type": "code",
   "execution_count": null,
   "metadata": {
    "colab": {
     "base_uri": "https://localhost:8080/",
     "height": 265
    },
    "colab_type": "code",
    "id": "nIYBOK8HGAbW",
    "outputId": "5a5e05cd-4c84-4442-cfea-4d7835de08e1"
   },
   "outputs": [],
   "source": [
    "plt.scatter(*coordinate.T, s=5);"
   ]
  },
  {
   "cell_type": "markdown",
   "metadata": {
    "colab_type": "text",
    "id": "uAeQH_sQK8IQ"
   },
   "source": [
    "Naive approach: can we predict the coordinates from the center of mass position of the calorimeter response?"
   ]
  },
  {
   "cell_type": "code",
   "execution_count": null,
   "metadata": {
    "colab": {
     "base_uri": "https://localhost:8080/",
     "height": 211
    },
    "colab_type": "code",
    "id": "3mt3FiINGqXz",
    "outputId": "b5104903-df1c-42d7-d5dd-2774bd9658bb"
   },
   "outputs": [],
   "source": [
    "energy_density = energy / energy.sum(axis=(1, 2), keepdims=True)\n",
    "\n",
    "cell_coords = np.stack([*np.meshgrid(\n",
    "    np.arange(energy.shape[1]),\n",
    "    np.arange(energy.shape[2])\n",
    ")], axis=-1)[None,...]\n",
    "\n",
    "center_of_mass = (energy_density[...,None] * cell_coords).sum(axis=(1, 2))\n",
    "\n",
    "plt.figure(figsize=(8, 3))\n",
    "plt.subplot(121)\n",
    "plt.scatter(coordinate[:,0], center_of_mass[:,0], s=5)\n",
    "plt.subplot(122)\n",
    "plt.scatter(coordinate[:,1], center_of_mass[:,1], s=5);"
   ]
  },
  {
   "cell_type": "markdown",
   "metadata": {
    "colab_type": "text",
    "id": "YUoqUZHCLf3i"
   },
   "source": [
    "Looks like the correlation isn't too strong. Maybe higher moments would give us a better picture, but we'll leave such experiments to you."
   ]
  },
  {
   "cell_type": "markdown",
   "metadata": {
    "colab_type": "text",
    "id": "rTLaOd8rNULd"
   },
   "source": [
    "# Example solution"
   ]
  },
  {
   "cell_type": "code",
   "execution_count": null,
   "metadata": {
    "colab": {},
    "colab_type": "code",
    "id": "c7jiMXIHynma"
   },
   "outputs": [],
   "source": [
    "import tensorflow as tf\n",
    "\n",
    "from sklearn.model_selection import train_test_split"
   ]
  },
  {
   "cell_type": "code",
   "execution_count": null,
   "metadata": {
    "colab": {
     "base_uri": "https://localhost:8080/",
     "height": 34
    },
    "colab_type": "code",
    "id": "ZBuDIFV-N-Vp",
    "outputId": "ac3e10a1-1a8a-4f1b-919c-08804970bbaf"
   },
   "outputs": [],
   "source": [
    "X = energy[:,..., None] # adding Channels dimension\n",
    "Y = np.concatenate([coordinate, momentum], axis=1)\n",
    "\n",
    "X_train, X_val, Y_train, Y_val = train_test_split(X, Y, test_size=0.1, random_state=42)\n",
    "print(X_train.shape, Y_train.shape, X_val.shape, Y_val.shape)"
   ]
  },
  {
   "cell_type": "code",
   "execution_count": null,
   "metadata": {
    "colab": {},
    "colab_type": "code",
    "id": "tdlmdZrMywul"
   },
   "outputs": [],
   "source": [
    "# Disclaimer: this might not be the best architecture for the task\n",
    "\n",
    "inputs = tf.keras.layers.Input(shape=(30, 30, 1), name=\"InputImages\")\n",
    "tns = tf.keras.layers.Conv2D(filters=3, kernel_size=7)(inputs)\n",
    "tns = tf.keras.layers.ReLU()(tns)\n",
    "tns = tf.keras.layers.MaxPool2D(pool_size=(4,4))(tns)\n",
    "tns = tf.keras.layers.Conv2D(filters=8, kernel_size=4)(tns)\n",
    "tns = tf.keras.layers.Flatten()(tns)\n",
    "tns = tf.keras.layers.Dense(32)(tns)\n",
    "tns = tf.keras.layers.ReLU()(tns)\n",
    "outputs = tf.keras.layers.Dense(4)(tns)\n",
    "\n",
    "model = tf.keras.Model(inputs=inputs, outputs=outputs)\n",
    "print(model.summary())"
   ]
  },
  {
   "cell_type": "code",
   "execution_count": null,
   "metadata": {
    "colab": {},
    "colab_type": "code",
    "id": "PFhD7tURzCQN"
   },
   "outputs": [],
   "source": [
    "def metric_relative_mse(y_true, y_pred):\n",
    "    return (\n",
    "        tf.reduce_mean(tf.math.pow((y_true - y_pred), 2), axis=0) / tf.reduce_mean(tf.math.pow(y_true, 2), axis=0)\n",
    "    )\n",
    "\n",
    "def metric_relative_mse_total(y_true, y_pred):\n",
    "    return tf.reduce_sum(metric_relative_mse(y_true, y_pred))"
   ]
  },
  {
   "cell_type": "code",
   "execution_count": null,
   "metadata": {
    "colab": {},
    "colab_type": "code",
    "id": "QYyOjzMizUYf"
   },
   "outputs": [],
   "source": [
    "learning_rate = 1e-3\n",
    "opt = tf.keras.optimizers.Adam(learning_rate=learning_rate)\n",
    "model.compile(optimizer=opt, loss=\"MAE\", metrics=[\"MAE\", metric_relative_mse_total])"
   ]
  },
  {
   "cell_type": "code",
   "execution_count": null,
   "metadata": {
    "colab": {},
    "colab_type": "code",
    "id": "KaDRrfUezvkr"
   },
   "outputs": [],
   "source": [
    "BATCH_SIZE = 128\n",
    "model.fit(X_train, Y_train, epochs=100, batch_size=BATCH_SIZE, validation_data=(X_val, Y_val))"
   ]
  },
  {
   "cell_type": "code",
   "execution_count": null,
   "metadata": {
    "scrolled": true
   },
   "outputs": [],
   "source": [
    "prediction_val = model.predict(X_val)\n",
    "coordinate_val, momentum_val = (\n",
    "    prediction_val[:, :2],\n",
    "    prediction_val[:, 2:],\n",
    ")\n",
    "def scoring_function():\n",
    "    score = 0.\n",
    "    \n",
    "    ParticleMomentum_sol = Y_val[:, 2:]\n",
    "    ParticlePoint_sol = Y_val[:, :2]\n",
    "    \n",
    "    ParticleMomentum_pred = momentum_val[:, :2]\n",
    "    ParticlePoint_pred = coordinate_val[:, :2]\n",
    "    \n",
    "    score += np.sum(np.square(ParticleMomentum_sol - ParticleMomentum_pred).mean(axis=0) / np.square(ParticleMomentum_sol).mean(axis=0))\n",
    "    score += np.sum(np.square(ParticlePoint_sol - ParticlePoint_pred).mean(axis=0) / np.square(ParticlePoint_sol).mean(axis=0))\n",
    "    return score\n",
    "\n",
    "print(scoring_function())"
   ]
  },
  {
   "cell_type": "code",
   "execution_count": null,
   "metadata": {
    "colab": {},
    "colab_type": "code",
    "id": "JNs5peky2MRc"
   },
   "outputs": [],
   "source": []
  }
 ],
 "metadata": {
  "accelerator": "GPU",
  "colab": {
   "name": "CompetitionStartingKit.ipynb",
   "provenance": []
  },
  "kernelspec": {
   "display_name": "Python 3",
   "language": "python",
   "name": "python3"
  },
  "language_info": {
   "codemirror_mode": {
    "name": "ipython",
    "version": 3
   },
   "file_extension": ".py",
   "mimetype": "text/x-python",
   "name": "python",
   "nbconvert_exporter": "python",
   "pygments_lexer": "ipython3",
   "version": "3.6.9"
  }
 },
 "nbformat": 4,
 "nbformat_minor": 4
}
